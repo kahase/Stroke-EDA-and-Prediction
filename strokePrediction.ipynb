{
 "cells": [
  {
   "cell_type": "markdown",
   "id": "59eefee5-9886-4c9b-b1b2-e5bf93724f54",
   "metadata": {},
   "source": [
    "# Stroke EDA and Prediction"
   ]
  },
  {
   "cell_type": "markdown",
   "id": "1b506926-4b31-4ece-8402-00d63ccd94f3",
   "metadata": {},
   "source": [
    "Dataset:\n",
    "https://www.kaggle.com/datasets/fedesoriano/stroke-prediction-dataset/code?datasetId=1120859\n",
    "\n",
    "## Questions:\n",
    "     What are the most stroke affected ages ?\n",
    "     Are males or females more affected by stroke?\n",
    "     Are smokers more vulnurable to stroke than non-smokers ?\n",
    "     Which BMI is more safe from stroke?\n",
    "     What is the prediction performance?\n",
    "## Steps of the project as follows:\n",
    "### 1. EDA\n",
    "     Load Dataset\n",
    "     Explore Dataset\n",
    "     Cleaning Dataset\n",
    "     Analysis and Visualization\n",
    "### 2. Prediction using Logistic Regression"
   ]
  },
  {
   "cell_type": "markdown",
   "id": "b50c2b7e-63b7-4842-9cb6-78f75e20a4b6",
   "metadata": {},
   "source": [
    "# 1. Exploratory Data Analysis (EDA)"
   ]
  },
  {
   "cell_type": "markdown",
   "id": "45b66164-409b-458f-a59e-6d1a6f7707fa",
   "metadata": {},
   "source": [
    "### Load Data"
   ]
  },
  {
   "cell_type": "code",
   "execution_count": 171,
   "id": "8e78aee1-03ab-48a0-876e-743d00465b1f",
   "metadata": {},
   "outputs": [],
   "source": [
    "import numpy as np\n",
    "import pandas as pd \n",
    "import plotly.express as px\n",
    "import squarify\n",
    "%matplotlib inline\n",
    "import matplotlib.pyplot as plt\n",
    "import seaborn as sns\n",
    "import warnings\n",
    "warnings.filterwarnings('ignore')"
   ]
  },
  {
   "cell_type": "code",
   "execution_count": 172,
   "id": "68d630f3-622b-4377-ab3d-dcbecc4fb121",
   "metadata": {},
   "outputs": [],
   "source": [
    "data=pd.read_csv('stroke-data.csv')\n",
    "data_shape= data.shape\n"
   ]
  },
  {
   "cell_type": "markdown",
   "id": "906e3235-578f-4a28-adfa-9f6f5c953564",
   "metadata": {},
   "source": [
    "### Explore Dataset\n"
   ]
  },
  {
   "cell_type": "code",
   "execution_count": 173,
   "id": "86ae87b4-2f4c-427b-9097-34c4e35119d4",
   "metadata": {},
   "outputs": [
    {
     "name": "stdout",
     "output_type": "stream",
     "text": [
      "data shape: (5110, 12)\n",
      "\n"
     ]
    },
    {
     "data": {
      "text/html": [
       "<div>\n",
       "<style scoped>\n",
       "    .dataframe tbody tr th:only-of-type {\n",
       "        vertical-align: middle;\n",
       "    }\n",
       "\n",
       "    .dataframe tbody tr th {\n",
       "        vertical-align: top;\n",
       "    }\n",
       "\n",
       "    .dataframe thead th {\n",
       "        text-align: right;\n",
       "    }\n",
       "</style>\n",
       "<table border=\"1\" class=\"dataframe\">\n",
       "  <thead>\n",
       "    <tr style=\"text-align: right;\">\n",
       "      <th></th>\n",
       "      <th>id</th>\n",
       "      <th>gender</th>\n",
       "      <th>age</th>\n",
       "      <th>hypertension</th>\n",
       "      <th>heart_disease</th>\n",
       "      <th>ever_married</th>\n",
       "      <th>work_type</th>\n",
       "      <th>Residence_type</th>\n",
       "      <th>avg_glucose_level</th>\n",
       "      <th>bmi</th>\n",
       "      <th>smoking_status</th>\n",
       "      <th>stroke</th>\n",
       "    </tr>\n",
       "  </thead>\n",
       "  <tbody>\n",
       "    <tr>\n",
       "      <th>0</th>\n",
       "      <td>9046</td>\n",
       "      <td>Male</td>\n",
       "      <td>67.0</td>\n",
       "      <td>0</td>\n",
       "      <td>1</td>\n",
       "      <td>Yes</td>\n",
       "      <td>Private</td>\n",
       "      <td>Urban</td>\n",
       "      <td>228.69</td>\n",
       "      <td>36.6</td>\n",
       "      <td>formerly smoked</td>\n",
       "      <td>1</td>\n",
       "    </tr>\n",
       "    <tr>\n",
       "      <th>1</th>\n",
       "      <td>51676</td>\n",
       "      <td>Female</td>\n",
       "      <td>61.0</td>\n",
       "      <td>0</td>\n",
       "      <td>0</td>\n",
       "      <td>Yes</td>\n",
       "      <td>Self-employed</td>\n",
       "      <td>Rural</td>\n",
       "      <td>202.21</td>\n",
       "      <td>NaN</td>\n",
       "      <td>never smoked</td>\n",
       "      <td>1</td>\n",
       "    </tr>\n",
       "    <tr>\n",
       "      <th>2</th>\n",
       "      <td>31112</td>\n",
       "      <td>Male</td>\n",
       "      <td>80.0</td>\n",
       "      <td>0</td>\n",
       "      <td>1</td>\n",
       "      <td>Yes</td>\n",
       "      <td>Private</td>\n",
       "      <td>Rural</td>\n",
       "      <td>105.92</td>\n",
       "      <td>32.5</td>\n",
       "      <td>never smoked</td>\n",
       "      <td>1</td>\n",
       "    </tr>\n",
       "    <tr>\n",
       "      <th>3</th>\n",
       "      <td>60182</td>\n",
       "      <td>Female</td>\n",
       "      <td>49.0</td>\n",
       "      <td>0</td>\n",
       "      <td>0</td>\n",
       "      <td>Yes</td>\n",
       "      <td>Private</td>\n",
       "      <td>Urban</td>\n",
       "      <td>171.23</td>\n",
       "      <td>34.4</td>\n",
       "      <td>smokes</td>\n",
       "      <td>1</td>\n",
       "    </tr>\n",
       "    <tr>\n",
       "      <th>4</th>\n",
       "      <td>1665</td>\n",
       "      <td>Female</td>\n",
       "      <td>79.0</td>\n",
       "      <td>1</td>\n",
       "      <td>0</td>\n",
       "      <td>Yes</td>\n",
       "      <td>Self-employed</td>\n",
       "      <td>Rural</td>\n",
       "      <td>174.12</td>\n",
       "      <td>24.0</td>\n",
       "      <td>never smoked</td>\n",
       "      <td>1</td>\n",
       "    </tr>\n",
       "  </tbody>\n",
       "</table>\n",
       "</div>"
      ],
      "text/plain": [
       "      id  gender   age  hypertension  heart_disease ever_married  \\\n",
       "0   9046    Male  67.0             0              1          Yes   \n",
       "1  51676  Female  61.0             0              0          Yes   \n",
       "2  31112    Male  80.0             0              1          Yes   \n",
       "3  60182  Female  49.0             0              0          Yes   \n",
       "4   1665  Female  79.0             1              0          Yes   \n",
       "\n",
       "       work_type Residence_type  avg_glucose_level   bmi   smoking_status  \\\n",
       "0        Private          Urban             228.69  36.6  formerly smoked   \n",
       "1  Self-employed          Rural             202.21   NaN     never smoked   \n",
       "2        Private          Rural             105.92  32.5     never smoked   \n",
       "3        Private          Urban             171.23  34.4           smokes   \n",
       "4  Self-employed          Rural             174.12  24.0     never smoked   \n",
       "\n",
       "   stroke  \n",
       "0       1  \n",
       "1       1  \n",
       "2       1  \n",
       "3       1  \n",
       "4       1  "
      ]
     },
     "execution_count": 173,
     "metadata": {},
     "output_type": "execute_result"
    }
   ],
   "source": [
    "print(f\"data shape: {data_shape}\\n\")\n",
    "data.head()"
   ]
  },
  {
   "cell_type": "code",
   "execution_count": 174,
   "id": "660c6212-009c-44c2-802d-133ae22aba2a",
   "metadata": {},
   "outputs": [
    {
     "data": {
      "text/plain": [
       "id                     0\n",
       "gender                 0\n",
       "age                    0\n",
       "hypertension           0\n",
       "heart_disease          0\n",
       "ever_married           0\n",
       "work_type              0\n",
       "Residence_type         0\n",
       "avg_glucose_level      0\n",
       "bmi                  201\n",
       "smoking_status         0\n",
       "stroke                 0\n",
       "dtype: int64"
      ]
     },
     "execution_count": 174,
     "metadata": {},
     "output_type": "execute_result"
    }
   ],
   "source": [
    "#Check for null values\n",
    "data.isnull().sum()\n"
   ]
  },
  {
   "cell_type": "markdown",
   "id": "ee19afe5-81e5-4974-b7e2-08e32e3e74bb",
   "metadata": {},
   "source": [
    "### Cleaning Dataset"
   ]
  },
  {
   "cell_type": "code",
   "execution_count": 175,
   "id": "6cab4d7b-2ef5-4258-a996-2d609662db25",
   "metadata": {},
   "outputs": [],
   "source": [
    "# Drop the nulls in the dataset\n",
    "data = data.dropna()\n"
   ]
  },
  {
   "cell_type": "code",
   "execution_count": 176,
   "id": "86ac4661-4640-405a-8dec-404233cdf661",
   "metadata": {},
   "outputs": [
    {
     "name": "stdout",
     "output_type": "stream",
     "text": [
      "there are 201 duplicates\n"
     ]
    }
   ],
   "source": [
    "# let's remove duplicates, if they exist \n",
    "data.drop_duplicates(inplace= True)\n",
    "\n",
    "if data_shape[0] == data.shape[0]:\n",
    "    print(\"no duplicates found\")\n",
    "else:\n",
    "    data.reset_index(drop= True, inplace= True)\n",
    "    print(f\"there are {data_shape[0] - data.shape[0]} duplicates\")"
   ]
  },
  {
   "cell_type": "code",
   "execution_count": 177,
   "id": "980a770f-3c96-4a0e-a996-2d2d2c066bfc",
   "metadata": {},
   "outputs": [],
   "source": [
    "#Storing Copy of the cleaned data in different memory location\n",
    "data1=data.copy()\n"
   ]
  },
  {
   "cell_type": "code",
   "execution_count": 178,
   "id": "115408c1-db6f-4d50-a56b-e0bc4e4fdc11",
   "metadata": {},
   "outputs": [
    {
     "name": "stdout",
     "output_type": "stream",
     "text": [
      "gender: ['Female' 'Male' 'Other'] \n",
      "\n",
      "hypertension: [0 1] \n",
      "\n",
      "heart_disease: [0 1] \n",
      "\n",
      "ever_married: ['No' 'Yes'] \n",
      "\n",
      "work_type: ['Govt_job' 'Never_worked' 'Private' 'Self-employed' 'children'] \n",
      "\n",
      "Residence_type: ['Rural' 'Urban'] \n",
      "\n",
      "smoking_status: ['Unknown' 'formerly smoked' 'never smoked' 'smokes'] \n",
      "\n",
      "stroke: [0 1] \n",
      "\n"
     ]
    }
   ],
   "source": [
    "# Checking unique values in each categorical column\n",
    "\n",
    "cats = ['gender', 'hypertension', 'heart_disease', 'ever_married',\n",
    "        'work_type', 'Residence_type', 'smoking_status', 'stroke']\n",
    "\n",
    "for col in cats:\n",
    "    x = data1[col].unique()\n",
    "    print(col + ':', np.sort(x, axis=None), '\\n')"
   ]
  },
  {
   "cell_type": "code",
   "execution_count": 179,
   "id": "578eefe8-24d4-42ed-aecc-2e25a1ee84bc",
   "metadata": {},
   "outputs": [
    {
     "data": {
      "text/plain": [
       "id                      int64\n",
       "gender               category\n",
       "age                   float64\n",
       "hypertension         category\n",
       "heart_disease        category\n",
       "ever_married         category\n",
       "work_type            category\n",
       "Residence_type       category\n",
       "avg_glucose_level     float64\n",
       "bmi                   float64\n",
       "smoking_status       category\n",
       "stroke               category\n",
       "dtype: object"
      ]
     },
     "execution_count": 179,
     "metadata": {},
     "output_type": "execute_result"
    }
   ],
   "source": [
    "# convert them into Categorical dtype\n",
    "for cat in cats:\n",
    "    data1[cat] = pd.Categorical(data1[cat])\n",
    "\n",
    "data1.dtypes\n"
   ]
  },
  {
   "cell_type": "markdown",
   "id": "8cfc5213-4f82-41ed-b3c5-a1855ec4ea86",
   "metadata": {},
   "source": [
    "### Analysis and Visualization"
   ]
  },
  {
   "cell_type": "code",
   "execution_count": 180,
   "id": "4228eccd-5d01-4417-a407-b7b785cfe541",
   "metadata": {},
   "outputs": [],
   "source": [
    "# making age groups\n",
    "bins= [0, 20, 40, 60, 80, 200]\n",
    "labels= [\"1-20\", \"21-40\", \"41-60\", \"61-80\", \"80+\"]\n",
    "data1[\"age_group\"] = pd.cut(data1[\"age\"], bins= bins, labels= labels, ordered= True)\n",
    "# making bmi groups\n",
    "bins= [0, 18.5, 24.9, 29.9, 34.9, 100]\n",
    "labels= [\"Underweight\", \"Normal\", \"Overweight\", \"Obese\", \"Extremely Obese\"]\n",
    "data1[\"bmi_group\"] = pd.cut(data1[\"bmi\"], bins= bins, labels= labels, ordered= True)\n"
   ]
  },
  {
   "cell_type": "code",
   "execution_count": 181,
   "id": "07b00526-a02e-42dc-8ac3-e6f41bbf258d",
   "metadata": {},
   "outputs": [],
   "source": [
    "# auxiliary functions\n",
    "def calculate_proportions_by_group(data1, group_col, value_col):\n",
    "  \"\"\" \n",
    "  Calculates the proportions of the specified value within each group.\n",
    "\n",
    "  Args:\n",
    "    data: A pandas DataFrame containing the data.\n",
    "    group_col: The name of the column specifying the groups.\n",
    "    value_col: The name of the column containing the values.\n",
    "\n",
    "  Returns:\n",
    "    A pandas Series containing the proportions of the values within each group.\n",
    "  \"\"\"\n",
    "\n",
    "  proportions= data1.groupby(group_col, observed= False)[value_col].value_counts(normalize= True)\n",
    "  proportions= proportions.mul(100)\n",
    "  proportions= proportions.rename(\"percentage\")\n",
    "\n",
    "  return proportions\n",
    "\n",
    "\n",
    "def calculate_proportions_as_a_whole(data1, target_var, group_var, title):\n",
    "  \"\"\"\n",
    "  Creates a heatmap visualizing the proportions of a target variable within groups.\n",
    "\n",
    "  Args:\n",
    "      data: The DataFrame containing the data.\n",
    "      target_var: The name of the target variable.\n",
    "      group_var: The name of the variable used for grouping.\n",
    "      title: The title for the heatmap.\n",
    "  \"\"\"\n",
    "\n",
    "  # Create the crosstab with normalization\n",
    "  crosstab= pd.crosstab(index= data1[target_var], columns= data[group_var], normalize= True)\n",
    "\n",
    "  # Round the proportions to a specific number of decimal places\n",
    "  rounded_crosstab= crosstab.round(3)\n",
    "\n",
    "  # Create the heatmap\n",
    "  sns.heatmap(rounded_crosstab, annot= True)\n",
    "  plt.title(title)\n",
    "  plt.show()\n"
   ]
  },
  {
   "cell_type": "code",
   "execution_count": 182,
   "id": "ffda483e-227e-4475-8c1b-e7835be2983b",
   "metadata": {},
   "outputs": [
    {
     "name": "stdout",
     "output_type": "stream",
     "text": [
      "age_group  stroke\n",
      "1-20       0         99.900000\n",
      "           1          0.100000\n",
      "21-40      0         99.577703\n",
      "           1          0.422297\n",
      "41-60      0         96.220159\n",
      "           1          3.779841\n",
      "61-80      0         88.838475\n",
      "           1         11.161525\n",
      "80+        0         80.000000\n",
      "           1         20.000000\n",
      "Name: percentage, dtype: float64\n"
     ]
    }
   ],
   "source": [
    "proportions = calculate_proportions_by_group(data1, \"age_group\", \"stroke\")\n",
    "print(proportions)"
   ]
  },
  {
   "cell_type": "markdown",
   "id": "e2ade6bf-6e11-4331-bb76-f3a793e92e00",
   "metadata": {},
   "source": [
    "- As Age increseas Vulnurability to stroke increases. "
   ]
  },
  {
   "cell_type": "code",
   "execution_count": 183,
   "id": "da0fb28c-5769-4b8b-8620-ec6ca3d086f8",
   "metadata": {},
   "outputs": [
    {
     "name": "stdout",
     "output_type": "stream",
     "text": [
      "age_group  gender\n",
      "1-20       Female    50.500000\n",
      "           Male      49.500000\n",
      "           Other      0.000000\n",
      "21-40      Female    66.469595\n",
      "           Male      33.445946\n",
      "           Other      0.084459\n",
      "41-60      Female    59.084881\n",
      "           Male      40.915119\n",
      "           Other      0.000000\n",
      "61-80      Female    58.439201\n",
      "           Male      41.560799\n",
      "           Other      0.000000\n",
      "80+        Female    60.869565\n",
      "           Male      39.130435\n",
      "           Other      0.000000\n",
      "Name: percentage, dtype: float64\n"
     ]
    }
   ],
   "source": [
    "proportions = calculate_proportions_by_group(data1, \"age_group\", \"gender\")\n",
    "print(proportions)"
   ]
  },
  {
   "cell_type": "markdown",
   "id": "a874454d-aad7-41ae-bc54-6c6c96becc58",
   "metadata": {},
   "source": [
    "- This indicates Females are more vulnerable to stroke than males"
   ]
  },
  {
   "cell_type": "code",
   "execution_count": 184,
   "id": "e6bfe17e-e602-4f42-98ac-067000efa561",
   "metadata": {},
   "outputs": [
    {
     "name": "stdout",
     "output_type": "stream",
     "text": [
      "smoking_status   stroke\n",
      "Unknown          0         98.044504\n",
      "                 1          1.955496\n",
      "formerly smoked  0         93.189964\n",
      "                 1          6.810036\n",
      "never smoked     0         95.464363\n",
      "                 1          4.535637\n",
      "smokes           0         94.708277\n",
      "                 1          5.291723\n",
      "Name: percentage, dtype: float64\n"
     ]
    }
   ],
   "source": [
    "proportions = calculate_proportions_by_group(data, \"smoking_status\", \"stroke\")\n",
    "print(proportions)"
   ]
  },
  {
   "cell_type": "markdown",
   "id": "5d9e7b79-1842-4c66-8889-30d1aefea29a",
   "metadata": {},
   "source": [
    "- Smoking have no observable side effect on stroke. "
   ]
  },
  {
   "cell_type": "code",
   "execution_count": 185,
   "id": "454588ee-91b0-43c8-a2c6-21fecfc15a5c",
   "metadata": {},
   "outputs": [
    {
     "data": {
      "text/plain": [
       "bmi_group\n",
       "Underweight         1\n",
       "Normal             35\n",
       "Extremely Obese    42\n",
       "Obese              56\n",
       "Overweight         75\n",
       "Name: count, dtype: int64"
      ]
     },
     "execution_count": 185,
     "metadata": {},
     "output_type": "execute_result"
    }
   ],
   "source": [
    "# counting number of stroke cases in each group\n",
    "df= data1[data1['stroke'] == 1]\n",
    "BMIGroupsByStroke= df.groupby(by= \"bmi_group\", observed= False)[\"stroke\"].count().sort_values()\n",
    "\n",
    "BMIGroupsByStroke= BMIGroupsByStroke.rename(\"count\")\n",
    "BMIGroupsByStroke"
   ]
  },
  {
   "cell_type": "code",
   "execution_count": 186,
   "id": "f448d28b-d9f3-4542-a298-9ce4caefede2",
   "metadata": {},
   "outputs": [
    {
     "data": {
      "image/png": "[encoded data removed]",
      "text/plain": [
       "<Figure size 800x600 with 1 Axes>"
      ]
     },
     "metadata": {},
     "output_type": "display_data"
    }
   ],
   "source": [
    "colors = [\"#00FFFF\", \"#00CCFF\", \"#0099FF\", \"#0066FF\", \"#0033FF\"]\n",
    "\n",
    "plt.figure(figsize=(8, 6))\n",
    "squarify.plot(sizes= BMIGroupsByStroke, label= BMIGroupsByStroke.index, alpha=.8, color=colors)\n",
    "plt.axis('off')\n",
    "plt.title(\"Stroke cases by BMI groups\")\n",
    "plt.show()"
   ]
  },
  {
   "cell_type": "markdown",
   "id": "31953871-a3fe-4bd4-8f91-569a078195bf",
   "metadata": {},
   "source": [
    "- Therefore Underweight is the least vulnurable bmi group for stroke"
   ]
  },
  {
   "cell_type": "markdown",
   "id": "07e8097c-5efb-4c7a-9f27-f5eba68c6440",
   "metadata": {},
   "source": [
    "# 2. Prediction"
   ]
  },
  {
   "cell_type": "code",
   "execution_count": 187,
   "id": "05e07f40-5d0a-4a0c-8301-3ab391c48e4f",
   "metadata": {},
   "outputs": [
    {
     "name": "stdout",
     "output_type": "stream",
     "text": [
      "Logistic Regression Model Performance:\n",
      "Train Score: 0.9576\n",
      "Test Accuracy: 0.9577\n",
      "Precision: 0.9171\n",
      "Recall: 0.9577\n",
      "F1 Score: 0.9369\n"
     ]
    }
   ],
   "source": [
    "import pandas as pd\n",
    "import numpy as np\n",
    "from sklearn.linear_model import LogisticRegression\n",
    "from sklearn.metrics import recall_score, precision_score, f1_score, accuracy_score\n",
    "from sklearn.model_selection import train_test_split\n",
    "from sklearn.preprocessing import StandardScaler\n",
    "\n",
    "# Convert categorical variables to numeric\n",
    "data = pd.get_dummies(data, drop_first=True)\n",
    "\n",
    "# Split features and target\n",
    "X = data.drop('stroke', axis=1)\n",
    "y = data['stroke']\n",
    "\n",
    "# Train-test split\n",
    "X_train, X_test, Y_train, Y_test = train_test_split(X, y, test_size=0.25, shuffle=True, stratify=y)\n",
    "\n",
    "# Scale the data\n",
    "scaler = StandardScaler()\n",
    "X_train = scaler.fit_transform(X_train)\n",
    "X_test = scaler.transform(X_test)\n",
    "\n",
    "# Initialize and train Logistic Regression model\n",
    "logistic_model = LogisticRegression()\n",
    "logistic_model.fit(X_train, Y_train)\n",
    "\n",
    "# Model evaluation\n",
    "train_score = logistic_model.score(X_train, Y_train)\n",
    "test_score = logistic_model.score(X_test, Y_test)\n",
    "y_pred = logistic_model.predict(X_test)\n",
    "\n",
    "# Metrics\n",
    "precision = precision_score(Y_test, y_pred, average='weighted')\n",
    "recall = recall_score(Y_test, y_pred, average='weighted')\n",
    "f1 = f1_score(Y_test, y_pred, average='weighted')\n",
    "accuracy = accuracy_score(Y_test, y_pred)\n",
    "\n",
    "# Display results\n",
    "results = {\n",
    "    'Train Score': train_score,\n",
    "    'Test Accuracy': accuracy,\n",
    "    'Precision': precision,\n",
    "    'Recall': recall,\n",
    "    'F1 Score': f1,\n",
    "}\n",
    "\n",
    "print(\"Logistic Regression Model Performance:\")\n",
    "for metric, value in results.items():\n",
    "    print(f\"{metric}: {value:.4f}\")"
   ]
  },
  {
   "cell_type": "code",
   "execution_count": null,
   "id": "56bef03e-e93f-4987-ad8c-4b0770d51227",
   "metadata": {},
   "outputs": [],
   "source": []
  }
 ],
 "metadata": {
  "kernelspec": {
   "display_name": "Python 3 (ipykernel)",
   "language": "python",
   "name": "python3"
  },
  "language_info": {
   "codemirror_mode": {
    "name": "ipython",
    "version": 3
   },
   "file_extension": ".py",
   "mimetype": "text/x-python",
   "name": "python",
   "nbconvert_exporter": "python",
   "pygments_lexer": "ipython3",
   "version": "3.11.7"
  }
 },
 "nbformat": 4,
 "nbformat_minor": 5
}
